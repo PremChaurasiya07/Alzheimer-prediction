{
 "cells": [
  {
   "cell_type": "code",
   "execution_count": 1,
   "metadata": {},
   "outputs": [
    {
     "name": "stdout",
     "output_type": "stream",
     "text": [
      "Num GPUs Available:  1\n"
     ]
    }
   ],
   "source": [
    "import tensorflow as tf\n",
    "print(\"Num GPUs Available: \", len(tf.config.experimental.list_physical_devices('GPU')))\n"
   ]
  },
  {
   "cell_type": "code",
   "execution_count": 19,
   "metadata": {},
   "outputs": [],
   "source": [
    "import numpy as np\n",
    "import pandas as pd\n",
    "from tensorflow.keras.models import Sequential\n",
    "from tensorflow.keras.layers import Flatten,Dense,MaxPooling2D,Conv2D,Dropout"
   ]
  },
  {
   "cell_type": "code",
   "execution_count": 20,
   "metadata": {},
   "outputs": [
    {
     "name": "stderr",
     "output_type": "stream",
     "text": [
      "c:\\Users\\Prem\\anaconda3\\envs\\tf_gpu\\lib\\site-packages\\tqdm\\auto.py:21: TqdmWarning: IProgress not found. Please update jupyter and ipywidgets. See https://ipywidgets.readthedocs.io/en/stable/user_install.html\n",
      "  from .autonotebook import tqdm as notebook_tqdm\n"
     ]
    },
    {
     "name": "stdout",
     "output_type": "stream",
     "text": [
      "Warning: Looks like you're using an outdated `kagglehub` version, please consider updating (latest version: 0.3.8)\n",
      "Path to dataset files: C:\\Users\\Prem\\.cache\\kagglehub\\datasets\\legendahmed\\alzheimermridataset\\versions\\1\n"
     ]
    }
   ],
   "source": [
    "import kagglehub\n",
    "\n",
    "# Download latest version\n",
    "path = kagglehub.dataset_download(\"legendahmed/alzheimermridataset\")\n",
    "\n",
    "print(\"Path to dataset files:\", path)"
   ]
  },
  {
   "cell_type": "code",
   "execution_count": 21,
   "metadata": {},
   "outputs": [
    {
     "name": "stdout",
     "output_type": "stream",
     "text": [
      "C:\\Users\\Prem\\.cache\\kagglehub\\datasets\\legendahmed\\alzheimermridataset\\versions\\1\n",
      "C:\\Users\\Prem\\.cache\\kagglehub\\datasets\\legendahmed\\alzheimermridataset\\versions\\1\\Alzheimer_s Dataset\n",
      "C:\\Users\\Prem\\.cache\\kagglehub\\datasets\\legendahmed\\alzheimermridataset\\versions\\1\\Alzheimer_s Dataset\\all image\n",
      "C:\\Users\\Prem\\.cache\\kagglehub\\datasets\\legendahmed\\alzheimermridataset\\versions\\1\\Alzheimer_s Dataset\\test\n",
      "C:\\Users\\Prem\\.cache\\kagglehub\\datasets\\legendahmed\\alzheimermridataset\\versions\\1\\Alzheimer_s Dataset\\test\\MildDemented\n",
      "C:\\Users\\Prem\\.cache\\kagglehub\\datasets\\legendahmed\\alzheimermridataset\\versions\\1\\Alzheimer_s Dataset\\test\\ModerateDemented\n",
      "C:\\Users\\Prem\\.cache\\kagglehub\\datasets\\legendahmed\\alzheimermridataset\\versions\\1\\Alzheimer_s Dataset\\test\\NonDemented\n",
      "C:\\Users\\Prem\\.cache\\kagglehub\\datasets\\legendahmed\\alzheimermridataset\\versions\\1\\Alzheimer_s Dataset\\test\\VeryMildDemented\n",
      "C:\\Users\\Prem\\.cache\\kagglehub\\datasets\\legendahmed\\alzheimermridataset\\versions\\1\\Alzheimer_s Dataset\\train\n",
      "C:\\Users\\Prem\\.cache\\kagglehub\\datasets\\legendahmed\\alzheimermridataset\\versions\\1\\Alzheimer_s Dataset\\train\\MildDemented\n",
      "C:\\Users\\Prem\\.cache\\kagglehub\\datasets\\legendahmed\\alzheimermridataset\\versions\\1\\Alzheimer_s Dataset\\train\\ModerateDemented\n",
      "C:\\Users\\Prem\\.cache\\kagglehub\\datasets\\legendahmed\\alzheimermridataset\\versions\\1\\Alzheimer_s Dataset\\train\\NonDemented\n",
      "C:\\Users\\Prem\\.cache\\kagglehub\\datasets\\legendahmed\\alzheimermridataset\\versions\\1\\Alzheimer_s Dataset\\train\\VeryMildDemented\n"
     ]
    }
   ],
   "source": [
    "import os\n",
    "for dir,_,_ in os.walk(path):\n",
    "    print(dir)"
   ]
  },
  {
   "cell_type": "code",
   "execution_count": 22,
   "metadata": {
    "slideshow": {
     "slide_type": "slide"
    }
   },
   "outputs": [
    {
     "name": "stdout",
     "output_type": "stream",
     "text": [
      "Found 1279 files belonging to 4 classes.\n"
     ]
    }
   ],
   "source": [
    "test_data=tf.keras.utils.image_dataset_from_directory(\n",
    "    f\"{path}\\Alzheimer_s Dataset\\\\test\",\n",
    "    labels=\"inferred\",\n",
    "    label_mode=\"categorical\",\n",
    "    class_names=None,\n",
    "    color_mode=\"rgb\",\n",
    "    batch_size=32,\n",
    "    image_size=(128, 128),\n",
    "    shuffle=True,\n",
    ")"
   ]
  },
  {
   "cell_type": "code",
   "execution_count": 23,
   "metadata": {},
   "outputs": [
    {
     "name": "stdout",
     "output_type": "stream",
     "text": [
      "Found 5121 files belonging to 4 classes.\n"
     ]
    }
   ],
   "source": [
    "train_data=tf.keras.utils.image_dataset_from_directory(\n",
    "    f\"{path}\\Alzheimer_s Dataset\\\\train\",\n",
    "    labels=\"inferred\",\n",
    "    label_mode=\"categorical\",\n",
    "    class_names=None,\n",
    "    color_mode=\"rgb\",\n",
    "    batch_size=32,\n",
    "    image_size=(128, 128),\n",
    "    shuffle=True,\n",
    ")"
   ]
  },
  {
   "cell_type": "code",
   "execution_count": 24,
   "metadata": {},
   "outputs": [],
   "source": [
    "model=Sequential()"
   ]
  },
  {
   "cell_type": "code",
   "execution_count": 25,
   "metadata": {},
   "outputs": [],
   "source": [
    "model.add(Conv2D(filters=16,kernel_size=3,strides=(1, 1),padding=\"same\",activation=\"relu\",input_shape=[128,128,3]))\n",
    "model.add(Conv2D(filters=16,kernel_size=3,strides=(1, 1),padding=\"same\",activation=\"relu\"))\n",
    "model.add(MaxPooling2D(pool_size=2,strides=2))\n",
    "model.add(Dropout(0.2))"
   ]
  },
  {
   "cell_type": "code",
   "execution_count": 26,
   "metadata": {},
   "outputs": [],
   "source": [
    "model.add(Conv2D(filters=32,kernel_size=3,strides=(1, 1),padding=\"same\",activation=\"relu\",input_shape=[128,128,3]))\n",
    "model.add(Conv2D(filters=32,kernel_size=3,strides=(1, 1),padding=\"same\",activation=\"relu\"))\n",
    "model.add(MaxPooling2D(pool_size=2,strides=2))\n",
    "model.add(Dropout(0.2))\n",
    "model.add(Conv2D(filters=64,kernel_size=3,strides=(1, 1),padding=\"same\",activation=\"relu\",input_shape=[128,128,3]))\n",
    "model.add(Conv2D(filters=64,kernel_size=3,strides=(1, 1),padding=\"same\",activation=\"relu\"))\n",
    "model.add(MaxPooling2D(pool_size=2,strides=2))\n",
    "model.add(Dropout(0.2))\n",
    "model.add(Conv2D(filters=128,kernel_size=3,strides=(1, 1),padding=\"same\",activation=\"relu\",input_shape=[128,128,3]))\n",
    "model.add(Conv2D(filters=128,kernel_size=3,strides=(1, 1),padding=\"same\",activation=\"relu\"))\n",
    "model.add(MaxPooling2D(pool_size=2,strides=2))\n",
    "model.add(Conv2D(filters=256,kernel_size=3,strides=(1, 1),padding=\"same\",activation=\"relu\",input_shape=[128,128,3]))\n",
    "model.add(Conv2D(filters=256,kernel_size=3,strides=(1, 1),padding=\"same\",activation=\"relu\"))\n",
    "model.add(Dropout(0.2))\n",
    "model.add(MaxPooling2D(pool_size=2,strides=2))\n",
    "model.add(Dropout(0.5))"
   ]
  },
  {
   "cell_type": "code",
   "execution_count": 27,
   "metadata": {},
   "outputs": [],
   "source": [
    "model.add(Flatten())\n",
    "model.add(Dense(units=1500,activation=\"relu\"))\n",
    "model.add(Dense(units=4,activation=\"softmax\"))"
   ]
  },
  {
   "cell_type": "code",
   "execution_count": 28,
   "metadata": {},
   "outputs": [],
   "source": [
    "model.compile(tf.keras.optimizers.Adam(learning_rate=0.0001),loss=\"categorical_crossentropy\",metrics=['accuracy'])"
   ]
  },
  {
   "cell_type": "code",
   "execution_count": 29,
   "metadata": {},
   "outputs": [
    {
     "name": "stdout",
     "output_type": "stream",
     "text": [
      "Model: \"sequential\"\n",
      "_________________________________________________________________\n",
      " Layer (type)                Output Shape              Param #   \n",
      "=================================================================\n",
      " conv2d (Conv2D)             (None, 128, 128, 16)      448       \n",
      "                                                                 \n",
      " conv2d_1 (Conv2D)           (None, 128, 128, 16)      2320      \n",
      "                                                                 \n",
      " max_pooling2d (MaxPooling2D  (None, 64, 64, 16)       0         \n",
      " )                                                               \n",
      "                                                                 \n",
      " dropout (Dropout)           (None, 64, 64, 16)        0         \n",
      "                                                                 \n",
      " conv2d_2 (Conv2D)           (None, 64, 64, 32)        4640      \n",
      "                                                                 \n",
      " conv2d_3 (Conv2D)           (None, 64, 64, 32)        9248      \n",
      "                                                                 \n",
      " max_pooling2d_1 (MaxPooling  (None, 32, 32, 32)       0         \n",
      " 2D)                                                             \n",
      "                                                                 \n",
      " dropout_1 (Dropout)         (None, 32, 32, 32)        0         \n",
      "                                                                 \n",
      " conv2d_4 (Conv2D)           (None, 32, 32, 64)        18496     \n",
      "                                                                 \n",
      " conv2d_5 (Conv2D)           (None, 32, 32, 64)        36928     \n",
      "                                                                 \n",
      " max_pooling2d_2 (MaxPooling  (None, 16, 16, 64)       0         \n",
      " 2D)                                                             \n",
      "                                                                 \n",
      " dropout_2 (Dropout)         (None, 16, 16, 64)        0         \n",
      "                                                                 \n",
      " conv2d_6 (Conv2D)           (None, 16, 16, 128)       73856     \n",
      "                                                                 \n",
      " conv2d_7 (Conv2D)           (None, 16, 16, 128)       147584    \n",
      "                                                                 \n",
      " max_pooling2d_3 (MaxPooling  (None, 8, 8, 128)        0         \n",
      " 2D)                                                             \n",
      "                                                                 \n",
      " conv2d_8 (Conv2D)           (None, 8, 8, 256)         295168    \n",
      "                                                                 \n",
      " conv2d_9 (Conv2D)           (None, 8, 8, 256)         590080    \n",
      "                                                                 \n",
      " dropout_3 (Dropout)         (None, 8, 8, 256)         0         \n",
      "                                                                 \n",
      " max_pooling2d_4 (MaxPooling  (None, 4, 4, 256)        0         \n",
      " 2D)                                                             \n",
      "                                                                 \n",
      " dropout_4 (Dropout)         (None, 4, 4, 256)         0         \n",
      "                                                                 \n",
      " flatten (Flatten)           (None, 4096)              0         \n",
      "                                                                 \n",
      " dense (Dense)               (None, 1500)              6145500   \n",
      "                                                                 \n",
      " dense_1 (Dense)             (None, 4)                 6004      \n",
      "                                                                 \n",
      "=================================================================\n",
      "Total params: 7,330,272\n",
      "Trainable params: 7,330,272\n",
      "Non-trainable params: 0\n",
      "_________________________________________________________________\n"
     ]
    }
   ],
   "source": [
    "model.summary()"
   ]
  },
  {
   "cell_type": "code",
   "execution_count": 30,
   "metadata": {},
   "outputs": [
    {
     "name": "stdout",
     "output_type": "stream",
     "text": [
      "Epoch 1/25\n",
      "161/161 [==============================] - 26s 69ms/step - loss: 1.4264 - accuracy: 0.4687 - val_loss: 1.1634 - val_accuracy: 0.5004\n",
      "Epoch 2/25\n",
      "161/161 [==============================] - 10s 60ms/step - loss: 1.0482 - accuracy: 0.4794 - val_loss: 1.1812 - val_accuracy: 0.5004\n",
      "Epoch 3/25\n",
      "161/161 [==============================] - 10s 60ms/step - loss: 1.0461 - accuracy: 0.4874 - val_loss: 1.1736 - val_accuracy: 0.5004\n",
      "Epoch 4/25\n",
      "161/161 [==============================] - 10s 61ms/step - loss: 1.0289 - accuracy: 0.4929 - val_loss: 1.0635 - val_accuracy: 0.5004\n",
      "Epoch 5/25\n",
      "161/161 [==============================] - 10s 61ms/step - loss: 0.9997 - accuracy: 0.5062 - val_loss: 1.1844 - val_accuracy: 0.5004\n",
      "Epoch 6/25\n",
      "161/161 [==============================] - 10s 60ms/step - loss: 0.9618 - accuracy: 0.5280 - val_loss: 1.1916 - val_accuracy: 0.5004\n",
      "Epoch 7/25\n",
      "161/161 [==============================] - 10s 61ms/step - loss: 0.9392 - accuracy: 0.5409 - val_loss: 1.1323 - val_accuracy: 0.5004\n",
      "Epoch 8/25\n",
      "161/161 [==============================] - 10s 61ms/step - loss: 0.9317 - accuracy: 0.5552 - val_loss: 1.0383 - val_accuracy: 0.5098\n",
      "Epoch 9/25\n",
      "161/161 [==============================] - 10s 60ms/step - loss: 0.9099 - accuracy: 0.5710 - val_loss: 1.2084 - val_accuracy: 0.5004\n",
      "Epoch 10/25\n",
      "161/161 [==============================] - 10s 61ms/step - loss: 0.9065 - accuracy: 0.5710 - val_loss: 1.1372 - val_accuracy: 0.5027\n",
      "Epoch 11/25\n",
      "161/161 [==============================] - 10s 61ms/step - loss: 0.8895 - accuracy: 0.5837 - val_loss: 1.1269 - val_accuracy: 0.5004\n",
      "Epoch 12/25\n",
      "161/161 [==============================] - 10s 61ms/step - loss: 0.8762 - accuracy: 0.5923 - val_loss: 1.2240 - val_accuracy: 0.5043\n",
      "Epoch 13/25\n",
      "161/161 [==============================] - 10s 61ms/step - loss: 0.8653 - accuracy: 0.5991 - val_loss: 0.9207 - val_accuracy: 0.5684\n",
      "Epoch 14/25\n",
      "161/161 [==============================] - 10s 61ms/step - loss: 0.8554 - accuracy: 0.6024 - val_loss: 1.0997 - val_accuracy: 0.5035\n",
      "Epoch 15/25\n",
      "161/161 [==============================] - 10s 62ms/step - loss: 0.8357 - accuracy: 0.6171 - val_loss: 0.9063 - val_accuracy: 0.5575\n",
      "Epoch 16/25\n",
      "161/161 [==============================] - 10s 61ms/step - loss: 0.8198 - accuracy: 0.6337 - val_loss: 0.8847 - val_accuracy: 0.5950\n",
      "Epoch 17/25\n",
      "161/161 [==============================] - 10s 61ms/step - loss: 0.8122 - accuracy: 0.6339 - val_loss: 0.9650 - val_accuracy: 0.5786\n",
      "Epoch 18/25\n",
      "161/161 [==============================] - 10s 61ms/step - loss: 0.7868 - accuracy: 0.6423 - val_loss: 0.8611 - val_accuracy: 0.5895\n",
      "Epoch 19/25\n",
      "161/161 [==============================] - 10s 61ms/step - loss: 0.7657 - accuracy: 0.6536 - val_loss: 0.9358 - val_accuracy: 0.5958\n",
      "Epoch 20/25\n",
      "161/161 [==============================] - 10s 62ms/step - loss: 0.7496 - accuracy: 0.6637 - val_loss: 0.8586 - val_accuracy: 0.6114\n",
      "Epoch 21/25\n",
      "161/161 [==============================] - 10s 62ms/step - loss: 0.7193 - accuracy: 0.6682 - val_loss: 1.0379 - val_accuracy: 0.5700\n",
      "Epoch 22/25\n",
      "161/161 [==============================] - 10s 62ms/step - loss: 0.7030 - accuracy: 0.6825 - val_loss: 0.8940 - val_accuracy: 0.6044\n",
      "Epoch 23/25\n",
      "161/161 [==============================] - 10s 62ms/step - loss: 0.6635 - accuracy: 0.6934 - val_loss: 0.9990 - val_accuracy: 0.5895\n",
      "Epoch 24/25\n",
      "161/161 [==============================] - 10s 62ms/step - loss: 0.6252 - accuracy: 0.7176 - val_loss: 1.2513 - val_accuracy: 0.5794\n",
      "Epoch 25/25\n",
      "161/161 [==============================] - 10s 62ms/step - loss: 0.5982 - accuracy: 0.7356 - val_loss: 1.6073 - val_accuracy: 0.5536\n"
     ]
    },
    {
     "data": {
      "text/plain": [
       "<keras.callbacks.History at 0x2031a970220>"
      ]
     },
     "execution_count": 30,
     "metadata": {},
     "output_type": "execute_result"
    }
   ],
   "source": [
    "model.fit(x=train_data,validation_data=test_data,epochs=25)"
   ]
  },
  {
   "cell_type": "code",
   "execution_count": 31,
   "metadata": {},
   "outputs": [
    {
     "name": "stdout",
     "output_type": "stream",
     "text": [
      "40/40 [==============================] - 1s 18ms/step - loss: 1.6073 - accuracy: 0.5536\n"
     ]
    },
    {
     "data": {
      "text/plain": [
       "[1.6073302030563354, 0.5535574555397034]"
      ]
     },
     "execution_count": 31,
     "metadata": {},
     "output_type": "execute_result"
    }
   ],
   "source": [
    "model.evaluate(test_data)"
   ]
  },
  {
   "cell_type": "code",
   "execution_count": null,
   "metadata": {},
   "outputs": [
    {
     "name": "stdout",
     "output_type": "stream",
     "text": [
      "Path to dataset files: C:\\Users\\Prem\\OneDrive\\Desktop\\mritest\n"
     ]
    }
   ],
   "source": [
    "\n",
    "# Download latest version\n",
    "path1 = \"C:\\\\Users\\\\Prem\\\\OneDrive\\\\Desktop\\\\notebook\\\\mritest\"\n",
    "\n",
    "print(\"Path to dataset files:\", path1)"
   ]
  },
  {
   "cell_type": "code",
   "execution_count": null,
   "metadata": {},
   "outputs": [
    {
     "name": "stdout",
     "output_type": "stream",
     "text": [
      "['mild1.jpg', 'mild2.jpg', 'moderate1.jpg', 'moderate2.jpg', 'no1.jpg', 'no2.png', 'verymild1.jpg', 'verymild2.jpg']\n"
     ]
    }
   ],
   "source": [
    "import os\n",
    "for dir,sub,file in os.walk(path1):\n",
    "    print(file)"
   ]
  },
  {
   "cell_type": "code",
   "execution_count": null,
   "metadata": {},
   "outputs": [],
   "source": [
    "from tensorflow.keras.preprocessing.image import load_img, img_to_array\n",
    "import numpy as np\n",
    "\n",
    "# Load and preprocess the image\n",
    "img_path = f\"{path1}\\\\no2.png\"\n",
    "img = load_img(img_path, target_size=(128, 128))  # Resize to match input shape\n",
    "img_array = img_to_array(img)  # Convert to array\n",
    "img_array = np.expand_dims(img_array, axis=0)  # Add batch dimension\n",
    "# img_array /= 255.0  # Normalize pixel values\n"
   ]
  },
  {
   "cell_type": "code",
   "execution_count": 35,
   "metadata": {},
   "outputs": [
    {
     "name": "stdout",
     "output_type": "stream",
     "text": [
      "1/1 [==============================] - 0s 225ms/step\n",
      "Class 0: 0.0008\n",
      "Class 1: 0.0000\n",
      "Class 2: 0.9870\n",
      "Class 3: 0.0122\n"
     ]
    }
   ],
   "source": [
    "predictions = model.predict(img_array)\n",
    "for i, prob in enumerate(predictions[0]):\n",
    "    print(f\"Class {i}: {prob:.4f}\")\n",
    "   "
   ]
  },
  {
   "cell_type": "code",
   "execution_count": 36,
   "metadata": {},
   "outputs": [
    {
     "name": "stdout",
     "output_type": "stream",
     "text": [
      "2\n",
      "Non-Demented\n"
     ]
    }
   ],
   "source": [
    "output=np.argmax(predictions)\n",
    "print(output)\n",
    "if(output==2):\n",
    "    print(\"Non-Demented\")\n",
    "else:\n",
    "    print(\"Demented\")"
   ]
  },
  {
   "cell_type": "code",
   "execution_count": 37,
   "metadata": {},
   "outputs": [],
   "source": [
    "model.save(\"Mri_Alzhiemer.keras\")"
   ]
  },
  {
   "cell_type": "code",
   "execution_count": 38,
   "metadata": {},
   "outputs": [],
   "source": [
    "from tensorflow.keras.models import load_model"
   ]
  },
  {
   "cell_type": "code",
   "execution_count": 39,
   "metadata": {},
   "outputs": [],
   "source": [
    "new=load_model(\"Mri_Alzhiemer.keras\")"
   ]
  },
  {
   "cell_type": "code",
   "execution_count": 43,
   "metadata": {},
   "outputs": [
    {
     "name": "stdout",
     "output_type": "stream",
     "text": [
      "1/1 [==============================] - 0s 26ms/step\n"
     ]
    },
    {
     "data": {
      "text/plain": [
       "2"
      ]
     },
     "execution_count": 43,
     "metadata": {},
     "output_type": "execute_result"
    }
   ],
   "source": [
    "n=new.predict(img_array)\n",
    "np.argmax(n)\n"
   ]
  },
  {
   "cell_type": "code",
   "execution_count": null,
   "metadata": {},
   "outputs": [],
   "source": []
  }
 ],
 "metadata": {
  "kernelspec": {
   "display_name": "tf_gpu",
   "language": "python",
   "name": "python3"
  },
  "language_info": {
   "codemirror_mode": {
    "name": "ipython",
    "version": 3
   },
   "file_extension": ".py",
   "mimetype": "text/x-python",
   "name": "python",
   "nbconvert_exporter": "python",
   "pygments_lexer": "ipython3",
   "version": "3.8.20"
  }
 },
 "nbformat": 4,
 "nbformat_minor": 2
}
